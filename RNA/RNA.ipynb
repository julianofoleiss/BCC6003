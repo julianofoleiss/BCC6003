{
 "cells": [
  {
   "cell_type": "code",
   "execution_count": null,
   "id": "267b8347-1ab4-4a50-b866-85ff20bcc619",
   "metadata": {},
   "outputs": [],
   "source": [
    "import numpy as np\n",
    "import tensorflow as tf\n",
    "from tensorflow import keras\n",
    "import matplotlib.pyplot as plt\n",
    "from keras.layers import Input, Dense, Conv2D, MaxPool2D\n",
    "from keras.utils import clear_session, to_categorical\n",
    "from keras.callbacks import EarlyStopping\n",
    "from keras import Model\n",
    "from keras.optimizers import RMSprop\n",
    "from sklearn.metrics import f1_score, classification_report, ConfusionMatrixDisplay\n",
    "import pickle as pkl"
   ]
  },
  {
   "cell_type": "code",
   "execution_count": 2,
   "id": "20540dc9-383e-4ee1-bd89-86006071b74c",
   "metadata": {},
   "outputs": [],
   "source": [
    "def carregar_dados(nome):\n",
    "    Xnome = \"X_%s.pkl\" % (nome)\n",
    "    ynome = \"y_%s.pkl\" % (nome)\n",
    "    with open(Xnome, \"rb\") as f:\n",
    "        X = pkl.load(f)\n",
    "    with open(ynome, \"rb\") as f:\n",
    "        y = pkl.load(f)\n",
    "    return X, y"
   ]
  },
  {
   "cell_type": "code",
   "execution_count": 3,
   "id": "15d286e4-a8f2-4cb6-b259-47793f299066",
   "metadata": {},
   "outputs": [
    {
     "data": {
      "text/plain": [
       "((280, 32, 32), (280,), (40, 32, 32), (40,), (80, 32, 32), (80,))"
      ]
     },
     "execution_count": 3,
     "metadata": {},
     "output_type": "execute_result"
    }
   ],
   "source": [
    "X_treino, y_treino = carregar_dados(\"treino\")\n",
    "X_teste, y_teste = carregar_dados(\"teste\")\n",
    "X_val, y_val = carregar_dados(\"val\")\n",
    "X_treino.shape, y_treino.shape, X_val.shape, y_val.shape, X_teste.shape, y_teste.shape"
   ]
  },
  {
   "cell_type": "code",
   "execution_count": 4,
   "id": "3a9f54b3-9d3c-4f88-b7b3-fed1513517bd",
   "metadata": {},
   "outputs": [
    {
     "data": {
      "text/plain": [
       "((280, 40), (40, 40))"
      ]
     },
     "execution_count": 4,
     "metadata": {},
     "output_type": "execute_result"
    }
   ],
   "source": [
    "y_treino = to_categorical(y_treino)\n",
    "y_val = to_categorical(y_val)\n",
    "y_treino.shape, y_val.shape"
   ]
  },
  {
   "cell_type": "markdown",
   "id": "e0dd9ef1-d958-4f0e-a3d7-d73f9896a039",
   "metadata": {},
   "source": [
    "# MLP"
   ]
  },
  {
   "cell_type": "code",
   "execution_count": 5,
   "id": "239f2e07-0851-413c-99c0-4a48c6f3d8d2",
   "metadata": {},
   "outputs": [],
   "source": [
    "#\"Tune\" estes parâmetros\n",
    "\n",
    "#Número de neurônios por camada. O número de elementos desta lista define o número de camadas ocultas da rede.\n",
    "neuronios_por_camada = [200, 200, 200]\n",
    "#Qual função de ativação utilizar em cada camada. Esta lista deve ter o mesmo número de entradas da lista \"neuronios_por_camada\"\n",
    "ativacoes = [\"sigmoid\", \"sigmoid\", \"sigmoid\"]\n",
    "#Taxa de aprendizagem.\n",
    "taxa_aprendizagem = 0.001\n",
    "#Número máximo de épocas (iterações) que devem ser executadas.\n",
    "max_epocas = 300\n",
    "#Número máximo de épocas que devem ser executadas caso não haja melhoria no conjunto de validação durante o treino.\n",
    "paciencia_parada = 30"
   ]
  },
  {
   "cell_type": "code",
   "execution_count": null,
   "id": "9f64b712-62bc-4504-9b42-79376066f6a8",
   "metadata": {},
   "outputs": [],
   "source": [
    "clear_session()\n",
    "entrada = Input(shape=(1024,))\n",
    "for idx, (n_neuronios, func_ativ) in enumerate(zip(neuronios_por_camada, ativacoes)):\n",
    "    if idx > 0:\n",
    "        rede = Dense(n_neuronios, activation=func_ativ)(rede)\n",
    "    else:\n",
    "        rede = Dense(n_neuronios, activation=func_ativ)(entrada)\n",
    "saida = Dense(40, activation=\"softmax\")(rede)"
   ]
  },
  {
   "cell_type": "code",
   "execution_count": 7,
   "id": "9133d167-6d24-4743-a6a3-1599f88dba33",
   "metadata": {},
   "outputs": [
    {
     "data": {
      "text/html": [
       "<pre style=\"white-space:pre;overflow-x:auto;line-height:normal;font-family:Menlo,'DejaVu Sans Mono',consolas,'Courier New',monospace\"><span style=\"font-weight: bold\">Model: \"functional\"</span>\n",
       "</pre>\n"
      ],
      "text/plain": [
       "\u001b[1mModel: \"functional\"\u001b[0m\n"
      ]
     },
     "metadata": {},
     "output_type": "display_data"
    },
    {
     "data": {
      "text/html": [
       "<pre style=\"white-space:pre;overflow-x:auto;line-height:normal;font-family:Menlo,'DejaVu Sans Mono',consolas,'Courier New',monospace\">┏━━━━━━━━━━━━━━━━━━━━━━━━━━━━━━━━━┳━━━━━━━━━━━━━━━━━━━━━━━━┳━━━━━━━━━━━━━━━┓\n",
       "┃<span style=\"font-weight: bold\"> Layer (type)                    </span>┃<span style=\"font-weight: bold\"> Output Shape           </span>┃<span style=\"font-weight: bold\">       Param # </span>┃\n",
       "┡━━━━━━━━━━━━━━━━━━━━━━━━━━━━━━━━━╇━━━━━━━━━━━━━━━━━━━━━━━━╇━━━━━━━━━━━━━━━┩\n",
       "│ input_layer (<span style=\"color: #0087ff; text-decoration-color: #0087ff\">InputLayer</span>)        │ (<span style=\"color: #00d7ff; text-decoration-color: #00d7ff\">None</span>, <span style=\"color: #00af00; text-decoration-color: #00af00\">1024</span>)           │             <span style=\"color: #00af00; text-decoration-color: #00af00\">0</span> │\n",
       "├─────────────────────────────────┼────────────────────────┼───────────────┤\n",
       "│ dense (<span style=\"color: #0087ff; text-decoration-color: #0087ff\">Dense</span>)                   │ (<span style=\"color: #00d7ff; text-decoration-color: #00d7ff\">None</span>, <span style=\"color: #00af00; text-decoration-color: #00af00\">200</span>)            │       <span style=\"color: #00af00; text-decoration-color: #00af00\">205,000</span> │\n",
       "├─────────────────────────────────┼────────────────────────┼───────────────┤\n",
       "│ dense_1 (<span style=\"color: #0087ff; text-decoration-color: #0087ff\">Dense</span>)                 │ (<span style=\"color: #00d7ff; text-decoration-color: #00d7ff\">None</span>, <span style=\"color: #00af00; text-decoration-color: #00af00\">200</span>)            │        <span style=\"color: #00af00; text-decoration-color: #00af00\">40,200</span> │\n",
       "├─────────────────────────────────┼────────────────────────┼───────────────┤\n",
       "│ dense_2 (<span style=\"color: #0087ff; text-decoration-color: #0087ff\">Dense</span>)                 │ (<span style=\"color: #00d7ff; text-decoration-color: #00d7ff\">None</span>, <span style=\"color: #00af00; text-decoration-color: #00af00\">200</span>)            │        <span style=\"color: #00af00; text-decoration-color: #00af00\">40,200</span> │\n",
       "├─────────────────────────────────┼────────────────────────┼───────────────┤\n",
       "│ dense_3 (<span style=\"color: #0087ff; text-decoration-color: #0087ff\">Dense</span>)                 │ (<span style=\"color: #00d7ff; text-decoration-color: #00d7ff\">None</span>, <span style=\"color: #00af00; text-decoration-color: #00af00\">40</span>)             │         <span style=\"color: #00af00; text-decoration-color: #00af00\">8,040</span> │\n",
       "└─────────────────────────────────┴────────────────────────┴───────────────┘\n",
       "</pre>\n"
      ],
      "text/plain": [
       "┏━━━━━━━━━━━━━━━━━━━━━━━━━━━━━━━━━┳━━━━━━━━━━━━━━━━━━━━━━━━┳━━━━━━━━━━━━━━━┓\n",
       "┃\u001b[1m \u001b[0m\u001b[1mLayer (type)                   \u001b[0m\u001b[1m \u001b[0m┃\u001b[1m \u001b[0m\u001b[1mOutput Shape          \u001b[0m\u001b[1m \u001b[0m┃\u001b[1m \u001b[0m\u001b[1m      Param #\u001b[0m\u001b[1m \u001b[0m┃\n",
       "┡━━━━━━━━━━━━━━━━━━━━━━━━━━━━━━━━━╇━━━━━━━━━━━━━━━━━━━━━━━━╇━━━━━━━━━━━━━━━┩\n",
       "│ input_layer (\u001b[38;5;33mInputLayer\u001b[0m)        │ (\u001b[38;5;45mNone\u001b[0m, \u001b[38;5;34m1024\u001b[0m)           │             \u001b[38;5;34m0\u001b[0m │\n",
       "├─────────────────────────────────┼────────────────────────┼───────────────┤\n",
       "│ dense (\u001b[38;5;33mDense\u001b[0m)                   │ (\u001b[38;5;45mNone\u001b[0m, \u001b[38;5;34m200\u001b[0m)            │       \u001b[38;5;34m205,000\u001b[0m │\n",
       "├─────────────────────────────────┼────────────────────────┼───────────────┤\n",
       "│ dense_1 (\u001b[38;5;33mDense\u001b[0m)                 │ (\u001b[38;5;45mNone\u001b[0m, \u001b[38;5;34m200\u001b[0m)            │        \u001b[38;5;34m40,200\u001b[0m │\n",
       "├─────────────────────────────────┼────────────────────────┼───────────────┤\n",
       "│ dense_2 (\u001b[38;5;33mDense\u001b[0m)                 │ (\u001b[38;5;45mNone\u001b[0m, \u001b[38;5;34m200\u001b[0m)            │        \u001b[38;5;34m40,200\u001b[0m │\n",
       "├─────────────────────────────────┼────────────────────────┼───────────────┤\n",
       "│ dense_3 (\u001b[38;5;33mDense\u001b[0m)                 │ (\u001b[38;5;45mNone\u001b[0m, \u001b[38;5;34m40\u001b[0m)             │         \u001b[38;5;34m8,040\u001b[0m │\n",
       "└─────────────────────────────────┴────────────────────────┴───────────────┘\n"
      ]
     },
     "metadata": {},
     "output_type": "display_data"
    },
    {
     "data": {
      "text/html": [
       "<pre style=\"white-space:pre;overflow-x:auto;line-height:normal;font-family:Menlo,'DejaVu Sans Mono',consolas,'Courier New',monospace\"><span style=\"font-weight: bold\"> Total params: </span><span style=\"color: #00af00; text-decoration-color: #00af00\">293,440</span> (1.12 MB)\n",
       "</pre>\n"
      ],
      "text/plain": [
       "\u001b[1m Total params: \u001b[0m\u001b[38;5;34m293,440\u001b[0m (1.12 MB)\n"
      ]
     },
     "metadata": {},
     "output_type": "display_data"
    },
    {
     "data": {
      "text/html": [
       "<pre style=\"white-space:pre;overflow-x:auto;line-height:normal;font-family:Menlo,'DejaVu Sans Mono',consolas,'Courier New',monospace\"><span style=\"font-weight: bold\"> Trainable params: </span><span style=\"color: #00af00; text-decoration-color: #00af00\">293,440</span> (1.12 MB)\n",
       "</pre>\n"
      ],
      "text/plain": [
       "\u001b[1m Trainable params: \u001b[0m\u001b[38;5;34m293,440\u001b[0m (1.12 MB)\n"
      ]
     },
     "metadata": {},
     "output_type": "display_data"
    },
    {
     "data": {
      "text/html": [
       "<pre style=\"white-space:pre;overflow-x:auto;line-height:normal;font-family:Menlo,'DejaVu Sans Mono',consolas,'Courier New',monospace\"><span style=\"font-weight: bold\"> Non-trainable params: </span><span style=\"color: #00af00; text-decoration-color: #00af00\">0</span> (0.00 B)\n",
       "</pre>\n"
      ],
      "text/plain": [
       "\u001b[1m Non-trainable params: \u001b[0m\u001b[38;5;34m0\u001b[0m (0.00 B)\n"
      ]
     },
     "metadata": {},
     "output_type": "display_data"
    }
   ],
   "source": [
    "modelo = Model(inputs=entrada, outputs=saida)\n",
    "modelo.summary()"
   ]
  },
  {
   "cell_type": "code",
   "execution_count": 8,
   "id": "be4da549-f308-43f8-ae19-7b9afe97dd17",
   "metadata": {},
   "outputs": [],
   "source": [
    "optimizer = RMSprop(learning_rate=taxa_aprendizagem)\n",
    "modelo.compile(optimizer=optimizer,loss=\"categorical_crossentropy\")"
   ]
  },
  {
   "cell_type": "code",
   "execution_count": null,
   "id": "801ec5eb-8ac1-4c44-b4fb-f93c8e2180c4",
   "metadata": {},
   "outputs": [],
   "source": [
    "ES = EarlyStopping(patience=paciencia_parada, restore_best_weights=True)\n",
    "curvas = modelo.fit(X_treino.reshape((-1,1024)), \n",
    "                    y_treino, \n",
    "                    epochs=max_epocas,\n",
    "                    callbacks=[ES],\n",
    "                    validation_data=(X_val.reshape((-1,1024)), y_val), \n",
    "                    verbose=1, shuffle=True)"
   ]
  },
  {
   "cell_type": "code",
   "execution_count": 10,
   "id": "d4658fbe-e68e-4385-8435-dd84de95843d",
   "metadata": {},
   "outputs": [
    {
     "name": "stdout",
     "output_type": "stream",
     "text": [
      "O modelo foi treinado por 300 épocas. Menor erro no conjunto de validação: 0.305\n"
     ]
    },
    {
     "data": {
      "text/plain": [
       "<matplotlib.legend.Legend at 0x7d68fe538b20>"
      ]
     },
     "execution_count": 10,
     "metadata": {},
     "output_type": "execute_result"
    },
    {
     "data": {
      "image/png": "[encoded data removed]",
      "text/plain": [
       "<Figure size 640x480 with 1 Axes>"
      ]
     },
     "metadata": {},
     "output_type": "display_data"
    }
   ],
   "source": [
    "print(\"O modelo foi treinado por %d épocas. Menor erro no conjunto de validação: %.3f\" % (len(curvas.epoch), min(curvas.history[\"val_loss\"])))\n",
    "plt.plot(curvas.history[\"loss\"], label=\"Treino\")\n",
    "plt.plot(curvas.history[\"val_loss\"], label=\"Validação\")\n",
    "plt.legend()"
   ]
  },
  {
   "cell_type": "code",
   "execution_count": null,
   "id": "017b13e5-1584-410a-90e2-74652acebd71",
   "metadata": {},
   "outputs": [],
   "source": [
    "#Realizar as predições no conjunto de testes. A saída para cada imagem é um vetor de probabilidades, contendo\n",
    "#a probabilidade da entrada pertencer a cada uma das n classes.\n",
    "pred_prob = modelo.predict(X_teste.reshape((-1,1024)))"
   ]
  },
  {
   "cell_type": "code",
   "execution_count": 12,
   "id": "c393a49e-d172-4e4b-9e5b-054abbb55e7f",
   "metadata": {},
   "outputs": [],
   "source": [
    "#Predição única na classe com maior probabilidade\n",
    "pred = np.argmax(pred_prob, axis=1)"
   ]
  },
  {
   "cell_type": "code",
   "execution_count": 13,
   "id": "18301194-ae09-4f97-89e9-a2b906f7029d",
   "metadata": {},
   "outputs": [
    {
     "name": "stdout",
     "output_type": "stream",
     "text": [
      "F1-score médio: 0.714\n"
     ]
    }
   ],
   "source": [
    "print(\"F1-score médio: %.3f\" % f1_score(y_teste, pred, average=\"macro\"))"
   ]
  },
  {
   "cell_type": "code",
   "execution_count": 14,
   "id": "b6e20ba8-db1f-4058-abf9-72fb620a5829",
   "metadata": {},
   "outputs": [
    {
     "name": "stdout",
     "output_type": "stream",
     "text": [
      "              precision    recall  f1-score   support\n",
      "\n",
      "           0       0.00      0.00      0.00         2\n",
      "           1       1.00      0.50      0.67         2\n",
      "           2       1.00      0.50      0.67         2\n",
      "           3       1.00      0.50      0.67         2\n",
      "           4       1.00      1.00      1.00         2\n",
      "           5       1.00      1.00      1.00         2\n",
      "           6       0.50      0.50      0.50         2\n",
      "           7       0.50      0.50      0.50         2\n",
      "           8       0.67      1.00      0.80         2\n",
      "           9       1.00      1.00      1.00         2\n",
      "          10       1.00      0.50      0.67         2\n",
      "          11       1.00      0.50      0.67         2\n",
      "          12       0.50      0.50      0.50         2\n",
      "          13       0.67      1.00      0.80         2\n",
      "          14       0.67      1.00      0.80         2\n",
      "          15       1.00      0.50      0.67         2\n",
      "          16       1.00      0.50      0.67         2\n",
      "          17       0.50      1.00      0.67         2\n",
      "          18       1.00      1.00      1.00         2\n",
      "          19       1.00      0.50      0.67         2\n",
      "          20       0.67      1.00      0.80         2\n",
      "          21       1.00      0.50      0.67         2\n",
      "          22       0.50      1.00      0.67         2\n",
      "          23       1.00      1.00      1.00         2\n",
      "          24       1.00      0.50      0.67         2\n",
      "          25       0.00      0.00      0.00         2\n",
      "          26       1.00      1.00      1.00         2\n",
      "          27       0.67      1.00      0.80         2\n",
      "          28       0.50      0.50      0.50         2\n",
      "          29       1.00      1.00      1.00         2\n",
      "          30       0.67      1.00      0.80         2\n",
      "          31       1.00      0.50      0.67         2\n",
      "          32       1.00      1.00      1.00         2\n",
      "          33       1.00      1.00      1.00         2\n",
      "          34       0.50      0.50      0.50         2\n",
      "          35       0.50      0.50      0.50         2\n",
      "          36       1.00      1.00      1.00         2\n",
      "          37       0.50      0.50      0.50         2\n",
      "          38       0.67      1.00      0.80         2\n",
      "          39       0.67      1.00      0.80         2\n",
      "\n",
      "    accuracy                           0.72        80\n",
      "   macro avg       0.77      0.72      0.71        80\n",
      "weighted avg       0.77      0.72      0.71        80\n",
      "\n"
     ]
    }
   ],
   "source": [
    "print(classification_report(y_teste, pred))"
   ]
  },
  {
   "cell_type": "code",
   "execution_count": null,
   "id": "2d81681d-5ef7-4a77-9c25-e9cffee8c82c",
   "metadata": {},
   "outputs": [],
   "source": []
  }
 ],
 "metadata": {
  "kernelspec": {
   "display_name": "Python 3 (ipykernel)",
   "language": "python",
   "name": "python3"
  },
  "language_info": {
   "codemirror_mode": {
    "name": "ipython",
    "version": 3
   },
   "file_extension": ".py",
   "mimetype": "text/x-python",
   "name": "python",
   "nbconvert_exporter": "python",
   "pygments_lexer": "ipython3",
   "version": "3.10.12"
  }
 },
 "nbformat": 4,
 "nbformat_minor": 5
}
