{
 "cells": [
  {
   "cell_type": "code",
   "execution_count": null,
   "id": "f7212c3a-0b80-4347-b4e5-144153cbf873",
   "metadata": {},
   "outputs": [],
   "source": [
    "from sklearn.datasets import load_svmlight_files\n",
    "from sklearn.svm import SVC\n",
    "from sklearn.model_selection import GridSearchCV\n",
    "from sklearn.metrics import accuracy_score, ConfusionMatrixDisplay\n",
    "from sklearn.preprocessing import StandardScaler\n",
    "from sklearn.pipeline import Pipeline\n",
    "\n",
    "import numpy as np"
   ]
  },
  {
   "cell_type": "code",
   "execution_count": null,
   "id": "abbef26b-4697-4520-8e3c-23d47720cfa9",
   "metadata": {},
   "outputs": [],
   "source": [
    "X_treino, y_treino, X_teste, y_teste = load_svmlight_files(\n",
    "    [\"treino.SVM\", \"teste.SVM\"]\n",
    ")\n",
    "X_treino = X_treino.toarray()\n",
    "y_treino = y_treino.astype(int)\n",
    "X_teste = X_teste.toarray()\n",
    "y_teste = y_teste.astype(int)"
   ]
  },
  {
   "cell_type": "code",
   "execution_count": null,
   "id": "bb3751c2-8eac-47c5-a5d6-dc8e9d067eaa",
   "metadata": {},
   "outputs": [],
   "source": [
    "svm = SVC(kernel='rbf', probability=True)\n",
    "params = {\n",
    "    \"svm__C\" : [0.1, 1, 10, 100, 1000],\n",
    "    \"svm__gamma\" : [2e-5, 2e-3, 2e-1, \"auto\", \"scale\"]\n",
    "}\n",
    "pipe = Pipeline([\n",
    "    (\"scaler\", StandardScaler()), \n",
    "    (\"svm\", svm)\n",
    "])\n",
    "modelo = GridSearchCV(pipe, params, n_jobs=-1)"
   ]
  },
  {
   "cell_type": "code",
   "execution_count": null,
   "id": "abb243b5-6418-4761-9a6d-c9c0edc82cc6",
   "metadata": {},
   "outputs": [],
   "source": [
    "modelo.fit(X_treino, y_treino)"
   ]
  },
  {
   "cell_type": "code",
   "execution_count": null,
   "id": "615100ca-c253-4a08-aa11-96ab7cd182ea",
   "metadata": {},
   "outputs": [],
   "source": [
    "accuracy_score(y_teste, modelo.predict(X_teste))"
   ]
  },
  {
   "cell_type": "code",
   "execution_count": null,
   "id": "37e9f5e8-2bb6-410a-b3b9-eee4421297ef",
   "metadata": {},
   "outputs": [],
   "source": [
    "ConfusionMatrixDisplay.from_estimator(modelo, X_teste, y_teste)"
   ]
  }
 ],
 "metadata": {
  "kernelspec": {
   "display_name": "Python 3 (ipykernel)",
   "language": "python",
   "name": "python3"
  },
  "language_info": {
   "codemirror_mode": {
    "name": "ipython",
    "version": 3
   },
   "file_extension": ".py",
   "mimetype": "text/x-python",
   "name": "python",
   "nbconvert_exporter": "python",
   "pygments_lexer": "ipython3",
   "version": "3.10.12"
  }
 },
 "nbformat": 4,
 "nbformat_minor": 5
}
