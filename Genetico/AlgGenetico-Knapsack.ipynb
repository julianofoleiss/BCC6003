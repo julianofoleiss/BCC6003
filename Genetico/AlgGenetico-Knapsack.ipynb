{
 "cells": [
  {
   "cell_type": "code",
   "execution_count": 1,
   "id": "d79418d1-5876-4f84-8230-e49301289f65",
   "metadata": {},
   "outputs": [],
   "source": [
    "import numpy as np\n",
    "import functools\n",
    "import matplotlib.pyplot as plt\n",
    "%matplotlib inline"
   ]
  },
  {
   "cell_type": "markdown",
   "id": "bc33933f-f598-41ab-b9e8-15268f6bf845",
   "metadata": {},
   "source": [
    "# Algoritmo Genético (simples) para Solução do Problema da Mochila\n",
    "\n",
    "O algoritmo genético a seguir implementa uma solução simples para o problema da mochila tradicional. O problema da mochila (*Knapsack problem*) é um problema de otimização definido como segue: \n",
    "\n",
    "$$\n",
    "\\max{\\sum_{i=1}^{n} v_i x_i }\n",
    "$$\n",
    "\n",
    "sujeito a\n",
    "\n",
    "$$\n",
    "\\sum_{i=i}^{n} p_i x_i \\leq L\n",
    "$$\n",
    "\n",
    "tal que \n",
    "\n",
    "\\begin{gather*}\n",
    "x_i \\in \\{0,1\\}\\\\\n",
    "v_i \\in \\mathbb{Z}^+\\\\\n",
    "p_i \\in \\mathbb{Z}^+\\\\\n",
    "L \\in \\mathbb{Z}^+\n",
    "\\end{gather*}\n",
    "\n",
    "Uma abstração comum para o problema da mochila consiste em: dado um conjunto *n* itens, cada um com peso $p_i$ e um valor associado $v_i$. Deve-se selecionar itens tal que a soma total dos valores seja a máxima possível, respeitando o limite de peso total $L$. Cada índice $x_i$ do vetor de itens selecionados $\\mathbf{x} \\in  \\{0,1\\}^n$ indica se o item $i$ foi selecionado ou não para compor a solução."
   ]
  },
  {
   "cell_type": "markdown",
   "id": "41011316-eb2a-4711-aadb-a31bac222062",
   "metadata": {},
   "source": [
    "**A implementação abaixo está intencionalmente simples para ficar mais fácil compreender. Por exemplo, dá para otimizar bastante calculando todos os produtos escalares usando *numpy*.**"
   ]
  },
  {
   "cell_type": "code",
   "execution_count": 2,
   "id": "410e7a74-5f0a-4592-bd88-43d493f26ba6",
   "metadata": {},
   "outputs": [],
   "source": [
    "#Carregar instâncias no formato kplib (https://github.com/likr/kplib)\n",
    "#retorna o número de itens, o limite de peso total, o vetor de valores e o vetor de pesos\n",
    "def carregar_instancia(nome_arquivo):\n",
    "    with open(nome_arquivo, 'r') as f:\n",
    "        l = f.readlines()\n",
    "        l = [i.strip() for i in l]\n",
    "        n = int(l[1])\n",
    "        limite = int(l[2])\n",
    "        valores, pesos = zip(*[(int(dado.split(\" \")[0]), int(dado.split(\" \")[1])) for dado in l[4:]])\n",
    "        return n, limite, valores, pesos\n",
    "\n",
    "#Calcula a soma dos itens selecionados\n",
    "def calcular_peso(solucao, pesos):\n",
    "    peso = 0\n",
    "    for idx, i in enumerate(solucao):\n",
    "        if i == 1:\n",
    "            peso += pesos[idx]\n",
    "    return peso"
   ]
  },
  {
   "cell_type": "code",
   "execution_count": 3,
   "id": "37143b77-c03b-4939-9f96-ef3620d13d0b",
   "metadata": {},
   "outputs": [],
   "source": [
    "#Retorna uma função fitness parametrizada com os valores, pesos e o limite de peso total\n",
    "#Esta função fitness recebe uma solução e retorna o valor total da solução. Caso o peso \n",
    "#da solução exceda o limite, a função retorna fitness 0.\n",
    "def get_fitness_fn(valores, pesos, limite):\n",
    "    def fitness(solucao):\n",
    "        valor = 0\n",
    "        peso = 0\n",
    "        for idx, i in enumerate(solucao):\n",
    "            if i == 1:\n",
    "                valor += valores[idx]\n",
    "                peso  += pesos[idx]\n",
    "        if peso > limite:\n",
    "            valor = 0\n",
    "        return valor\n",
    "    return fitness"
   ]
  },
  {
   "cell_type": "code",
   "execution_count": 4,
   "id": "03b14615-66a1-44ee-a2e6-dcd806608331",
   "metadata": {},
   "outputs": [],
   "source": [
    "#Retorna uma população inicial contendo tam_pop vetores binários aleatórios com n_itens posições\n",
    "def gen_pop(tam_pop, n_itens):\n",
    "    return np.random.randint(0, 2, (tam_pop, n_itens))     "
   ]
  },
  {
   "cell_type": "code",
   "execution_count": 5,
   "id": "751aedfa-8994-47e6-a054-63b6e07d963b",
   "metadata": {},
   "outputs": [],
   "source": [
    "#Operador genético de reprodução\n",
    "#Recebe duas soluções e as combina usando um único ponto de corte.\n",
    "#Retorna apenas um indivíduo\n",
    "def reproduzir(x, y):\n",
    "    n_itens = len(x)\n",
    "    corte = np.random.randint(0, n_itens)\n",
    "    novo = np.zeros(n_itens).astype(int)\n",
    "    novo[0:corte] = x[0:corte]\n",
    "    novo[corte:n_itens] = y[corte:n_itens]\n",
    "    return novo"
   ]
  },
  {
   "cell_type": "code",
   "execution_count": 6,
   "id": "ae5353db-955e-4441-918c-de3ee5659183",
   "metadata": {},
   "outputs": [],
   "source": [
    "#Função auxiliar para computar a soma de prefixo\n",
    "def acumular(v):\n",
    "    acum = 0\n",
    "    r = []\n",
    "    for i in v:\n",
    "        r.append(i + acum)\n",
    "        acum = r[-1]\n",
    "    return r"
   ]
  },
  {
   "cell_type": "code",
   "execution_count": 7,
   "id": "0a473125-08ce-41bc-b078-a72ef0681b27",
   "metadata": {},
   "outputs": [],
   "source": [
    "#Função de seleção de indivíduo que escolhe com maior probabilidade \n",
    "#os indivíduos mais aptos.\n",
    "#Recebe como entrada a população e a função de fitness, retorna um indivíduo\n",
    "def selecionar_individuo(pop, f):\n",
    "    #calcula fitness de cada indivíduo\n",
    "    fits = list(map(f, pop)) \n",
    "    #calcula a soma das fitness\n",
    "    soma = sum(fits)\n",
    "    #normaliza as fitness de cada indivíduo\n",
    "    norms = list(map(lambda x,y: x / y, fits, [soma] * len(pop)))\n",
    "    #calcula a soma de prefixo\n",
    "    acum = list(acumular(norms))\n",
    "    #\"roda\" a roleta\n",
    "    r = np.random.random()\n",
    "    for i in range(len(acum)):\n",
    "        if r < acum[i]:\n",
    "            break\n",
    "    return pop[i]"
   ]
  },
  {
   "cell_type": "code",
   "execution_count": 8,
   "id": "3c64b132-1486-400d-8023-57b433acf8a5",
   "metadata": {},
   "outputs": [],
   "source": [
    "#Retorna uma função que retorna True com probabilidade prob/100.\n",
    "def mut_prob_constante(prob):\n",
    "    def uniform():\n",
    "        return True if np.random.randint(0,100) < prob else False\n",
    "    return uniform\n",
    "\n",
    "#Realiza uma mutação: inverte um bit aleatório da solução\n",
    "def mutar(solucao):\n",
    "    r = np.random.randint(0, len(solucao))\n",
    "    solucao[r] = 1 - solucao[r]\n",
    "    return solucao"
   ]
  },
  {
   "cell_type": "code",
   "execution_count": 9,
   "id": "336c5bed-61ff-4393-9f7c-7dd0764af46e",
   "metadata": {},
   "outputs": [],
   "source": [
    "def argmax(v):\n",
    "    m = 0\n",
    "    for i in range(len(v)):\n",
    "        if v[i] > v[m]:\n",
    "            m = i\n",
    "    return m\n",
    "    \n",
    "#Algoritmo genético clássico, como em Russell e Norvig(2010)\n",
    "#Recebe a população inicial, função fitness, função retorna true com probabilidade conhecida\n",
    "#número de iterações e uma flag indicando se deve mostrar um gráfico da convergência.\n",
    "#Retorna a população final e o melhor indivíduo\n",
    "def genetico(pop_inicial, f, mut_prob_f, iters=100, graph=True):\n",
    "    pop = pop_inicial\n",
    "    max_fits = []\n",
    "    mean_fits = []\n",
    "    best_solution = (pop[argmax(list(map(f,pop)))])\n",
    "    \n",
    "    for i in range(iters):\n",
    "        nova_pop = []\n",
    "        for p in range(len(pop)):\n",
    "            x = selecionar_individuo(pop, f)\n",
    "            y = selecionar_individuo(pop, f)\n",
    "            filho = reproduzir(x,y)\n",
    "            if mut_prob_f():\n",
    "                filho = mutar(filho)\n",
    "            nova_pop.append(filho)\n",
    "        pop = nova_pop\n",
    "        fits = list(map(f, pop))\n",
    "        max_fits.append(max(fits))\n",
    "        mean_fits.append(sum(fits) / len(fits))\n",
    "        \n",
    "        if max_fits[-1] > f(best_solution):\n",
    "            best_solution = pop[argmax(fits)]\n",
    "        \n",
    "    if graph:\n",
    "        #%matplotlib tk\n",
    "        plt.figure()\n",
    "        plt.plot(range(iters), mean_fits, label='Fitness médio')\n",
    "        plt.plot(range(iters), max_fits, label='Fitness máximo')\n",
    "        plt.legend()\n",
    "        plt.ylabel('Fitness')\n",
    "        plt.xlabel('Gerações')\n",
    "        plt.show()   \n",
    "        \n",
    "    return pop, best_solution\n"
   ]
  },
  {
   "cell_type": "code",
   "execution_count": null,
   "id": "036f020d-bf66-4ff1-90e2-9e69235f77b0",
   "metadata": {},
   "outputs": [],
   "source": []
  },
  {
   "cell_type": "code",
   "execution_count": 10,
   "id": "28eda233-d919-4c63-b05d-99fcd5f8711d",
   "metadata": {},
   "outputs": [
    {
     "name": "stdout",
     "output_type": "stream",
     "text": [
      "Número de itens: 50, limite de peso: 14778\n"
     ]
    },
    {
     "data": {
      "image/png": "[encoded data removed]",
      "text/plain": [
       "<Figure size 640x480 with 1 Axes>"
      ]
     },
     "metadata": {},
     "output_type": "display_data"
    },
    {
     "name": "stdout",
     "output_type": "stream",
     "text": [
      "Melhor solução encontrada: [0 1 1 0 1 0 1 0 0 1 1 1 0 1 1 0 1 1 1 1 1 1 1 1 1 0 0 0 1 1 0 1 0 1 0 0 0\n",
      " 0 1 0 0 1 1 0 0 1 0 1 0 1], valor = 20699, peso = 14713\n"
     ]
    }
   ],
   "source": [
    "#Número de iterações (gerações)\n",
    "N_ITERACOES = 200\n",
    "#Tamanho da população\n",
    "TAM_POP = 100\n",
    "#Probabilidade de um indivíduo sofrer mutação\n",
    "PROB_MUT = 5\n",
    "#Nome do arquivo que contém uma instância a ser resolvida\n",
    "INSTANCIA = \"s000.kp\"\n",
    "\n",
    "#Carregar a instância\n",
    "n_itens, limite, valores, pesos = carregar_instancia(INSTANCIA)\n",
    "print(\"Número de itens: %d, limite de peso: %d\" % (n_itens, limite))\n",
    "#Gerar a população inicial\n",
    "pop_inicial = gen_pop(TAM_POP, n_itens)\n",
    "#Gerar a função que retorna true com probabilidade PROB_MUT\n",
    "mutacao_prob_f = mut_prob_constante(PROB_MUT)\n",
    "#Instancia a função fitness com os dados da instância\n",
    "fitness = get_fitness_fn(valores, pesos, limite)\n",
    "#Executar o algoritmo genético\n",
    "res, melhor = genetico(pop_inicial, fitness, mutacao_prob_f, iters=N_ITERACOES, graph=True)\n",
    "\n",
    "print(\"Melhor solução encontrada: %s, valor = %d, peso = %d\" % (str(melhor), fitness(melhor), calcular_peso(melhor, pesos)))"
   ]
  },
  {
   "cell_type": "markdown",
   "id": "6a732e30-ab14-4390-ae70-80637dbbd3f9",
   "metadata": {},
   "source": [
    "# Solução Gulosa"
   ]
  },
  {
   "cell_type": "code",
   "execution_count": 33,
   "id": "69b29c7a-c4b1-4684-b72e-46c6a5ada9a5",
   "metadata": {},
   "outputs": [],
   "source": [
    "def gulosa(n_itens, limite, valores, pesos):\n",
    "    solucao = np.zeros(n_itens).astype(int)\n",
    "    peso = 0\n",
    "    valor = 0\n",
    "    sorted_idxs = list(reversed(np.argsort(valores)))\n",
    "    for idx in sorted_idxs:\n",
    "        if peso + pesos[idx] > limite:\n",
    "            break\n",
    "        solucao[idx] = 1\n",
    "        peso += pesos[idx]\n",
    "        valor += valores[idx]\n",
    "    return solucao, peso, valor\n",
    "        "
   ]
  },
  {
   "cell_type": "code",
   "execution_count": 34,
   "id": "ba8c9ca8-b2ee-45c3-a4b8-0099bbc92c9e",
   "metadata": {},
   "outputs": [
    {
     "name": "stdout",
     "output_type": "stream",
     "text": [
      "Solução da abordagem gulosa: [1 1 0 0 0 0 1 0 0 0 1 0 0 1 1 0 1 1 1 1 0 1 1 1 0 0 0 0 1 1 0 1 0 1 0 0 1\n",
      " 0 1 1 0 0 1 0 0 1 0 0 0 1], valor = 19065, peso = 13911\n",
      "\n"
     ]
    }
   ],
   "source": [
    "INSTANCIA = \"s000.kp\"\n",
    "\n",
    "n_itens, limite, valores, pesos = carregar_instancia(INSTANCIA)\n",
    "solucao, peso, valor = gulosa(n_itens, limite, valores, pesos)\n",
    "print(\"Solução da abordagem gulosa: %s, valor = %d, peso = %d\\n\" % (solucao, valor, peso))"
   ]
  }
 ],
 "metadata": {
  "kernelspec": {
   "display_name": "Python 3 (ipykernel)",
   "language": "python",
   "name": "python3"
  },
  "language_info": {
   "codemirror_mode": {
    "name": "ipython",
    "version": 3
   },
   "file_extension": ".py",
   "mimetype": "text/x-python",
   "name": "python",
   "nbconvert_exporter": "python",
   "pygments_lexer": "ipython3",
   "version": "3.10.12"
  }
 },
 "nbformat": 4,
 "nbformat_minor": 5
}
