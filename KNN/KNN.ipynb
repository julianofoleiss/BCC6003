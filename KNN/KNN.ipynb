{
 "cells": [
  {
   "cell_type": "code",
   "execution_count": 50,
   "id": "2c8bc1eb-7daa-45c1-a833-e1af944c1872",
   "metadata": {},
   "outputs": [],
   "source": [
    "# https://scikit-learn.org/stable/datasets/toy_dataset.html#wine-recognition-dataset\n",
    "from sklearn.datasets import load_wine \n",
    "\n",
    "from sklearn.model_selection import train_test_split\n",
    "\n",
    "from sklearn.preprocessing import StandardScaler\n",
    "\n",
    "from sklearn.neighbors import KNeighborsClassifier"
   ]
  },
  {
   "cell_type": "code",
   "execution_count": 43,
   "id": "2348e767-1e66-4380-ac66-f28334a11c5e",
   "metadata": {},
   "outputs": [],
   "source": [
    "X, y = load_wine(return_X_y=True)"
   ]
  },
  {
   "cell_type": "code",
   "execution_count": 47,
   "id": "f16dc56e-62e6-4123-914d-ac7836ea86fa",
   "metadata": {},
   "outputs": [],
   "source": [
    "X_treino, X_teste, y_treino, y_teste = train_test_split(X, y, stratify=y, test_size=0.2, random_state=99)"
   ]
  },
  {
   "cell_type": "code",
   "execution_count": 51,
   "id": "38de0b77-bd04-41fe-8cd7-1796eee5e851",
   "metadata": {},
   "outputs": [],
   "source": [
    "USAR_SCALER = True\n",
    "KS = range(1,15,2)\n",
    "DISTANCIA = \"euclidean\" # euclidean, manhattan"
   ]
  },
  {
   "cell_type": "code",
   "execution_count": null,
   "id": "be414811-2d2f-427d-8780-b9d4ba6122f4",
   "metadata": {},
   "outputs": [],
   "source": []
  }
 ],
 "metadata": {
  "kernelspec": {
   "display_name": "Python 3 (ipykernel)",
   "language": "python",
   "name": "python3"
  },
  "language_info": {
   "codemirror_mode": {
    "name": "ipython",
    "version": 3
   },
   "file_extension": ".py",
   "mimetype": "text/x-python",
   "name": "python",
   "nbconvert_exporter": "python",
   "pygments_lexer": "ipython3",
   "version": "3.10.12"
  }
 },
 "nbformat": 4,
 "nbformat_minor": 5
}
